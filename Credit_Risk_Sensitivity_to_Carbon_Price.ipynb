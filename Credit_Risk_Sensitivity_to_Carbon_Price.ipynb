{
  "nbformat": 4,
  "nbformat_minor": 0,
  "metadata": {
    "colab": {
      "provenance": []
    },
    "kernelspec": {
      "name": "python3",
      "display_name": "Python 3"
    },
    "language_info": {
      "name": "python"
    }
  },
  "cells": [
    {
      "cell_type": "markdown",
      "source": [
        "See notebook in Google Colab : https://drive.google.com/drive/folders/1RX0o4puey7lUXwwYv-NMwMdyIfOypRN5?usp=share_link"
      ],
      "metadata": {
        "id": "LgRhmFkNsQol"
      }
    },
    {
      "cell_type": "markdown",
      "source": [
        "# Credit Risk Sensitivity to Carbon Price Project\n",
        "\n",
        "This project is based on [Bouchet/Le Guenedal, 2020](https://papers.ssrn.com/sol3/papers.cfm?abstract_id=3574486) and it reproduces the results of the working paper. The data is taken from https://data.ene.iiasa.ac.at/iamc-1.5c-explorer/#/workspaces. Then, the physical risk is modelised in Merton's model by adding a Poisson component in the diffusion, characterized by stochastic equation from Black & Scholes model."
      ],
      "metadata": {
        "id": "58Hc0Ulls90x"
      }
    },
    {
      "cell_type": "code",
      "source": [
        "from google.colab import files\n",
        "from google.colab import drive\n",
        "drive.mount('/content/drive')"
      ],
      "metadata": {
        "id": "ickVS22x8EFU",
        "colab": {
          "base_uri": "https://localhost:8080/"
        },
        "outputId": "560cdb08-71ac-4006-fece-7e743ee56d8e"
      },
      "execution_count": 17,
      "outputs": [
        {
          "output_type": "stream",
          "name": "stdout",
          "text": [
            "Drive already mounted at /content/drive; to attempt to forcibly remount, call drive.mount(\"/content/drive\", force_remount=True).\n"
          ]
        }
      ]
    },
    {
      "cell_type": "markdown",
      "source": [
        "## Imports"
      ],
      "metadata": {
        "id": "Io5AHfLEugUs"
      }
    },
    {
      "cell_type": "code",
      "source": [
        "file_path = '/content/drive/MyDrive/Colab Notebooks/Projects_for_Github/Credit_Risk_Sensitivity_to_Carbon_Price/'\n",
        "import numpy as np\n",
        "from scipy.stats import norm, poisson\n",
        "import pandas as pd\n",
        "import matplotlib.pyplot as plt\n",
        "from random import gauss\n",
        "import math"
      ],
      "metadata": {
        "id": "G9099oxtTXfN"
      },
      "execution_count": 18,
      "outputs": []
    },
    {
      "cell_type": "code",
      "source": [
        "!pip install --upgrade openpyxl"
      ],
      "metadata": {
        "colab": {
          "base_uri": "https://localhost:8080/"
        },
        "id": "0IRt_OLaZHCZ",
        "outputId": "f80b7206-d6db-48db-a217-e251ffd5608e"
      },
      "execution_count": 19,
      "outputs": [
        {
          "output_type": "stream",
          "name": "stdout",
          "text": [
            "Looking in indexes: https://pypi.org/simple, https://us-python.pkg.dev/colab-wheels/public/simple/\n",
            "Requirement already satisfied: openpyxl in /usr/local/lib/python3.8/dist-packages (3.1.1)\n",
            "Requirement already satisfied: et-xmlfile in /usr/local/lib/python3.8/dist-packages (from openpyxl) (1.1.0)\n"
          ]
        }
      ]
    },
    {
      "cell_type": "code",
      "source": [
        "# Load dataframe using pandas\n",
        "df = pd.read_excel(file_path + 'iamc15_scenario_data_all_regions_r2.0.xlsx', sheet_name = 'data')"
      ],
      "metadata": {
        "id": "TVxFUL2-gEnY"
      },
      "execution_count": 20,
      "outputs": []
    },
    {
      "cell_type": "markdown",
      "source": [
        "## Data preparation\n",
        "The data is filtered to reproduce the conditions of the paper. The model is MESSAGE_GLOBIOM 1.0 and the scenarios are SSP2-19, SSP2-26 and SSP2-34, which respectively correspond to an elevation of 1.5°C, 1.7 °C and 2.2°C of the mean temperature by 2100."
      ],
      "metadata": {
        "id": "H8F_hx4Ju0H7"
      }
    },
    {
      "cell_type": "code",
      "source": [
        "# Filter on the model\n",
        "is_MESSAGEGLOBIOM = df['Model'] == 'MESSAGE-GLOBIOM 1.0' # Filter on model considered in the article\n",
        "df1 = df[is_MESSAGEGLOBIOM]\n",
        "\n",
        "# Filter on the region\n",
        "def filter_region(df=df1, Region='World') : # Filter on Region\n",
        "  '''\n",
        "  Parameters :\n",
        "    - df : pandas Dataframe containing data\n",
        "    - Region : Region of the world\n",
        "  Output : \n",
        "    A pandas dataframe filtered on the selected region\n",
        "  Description :\n",
        "    Function which select a region from the list and filter the dataframe on it\n",
        "  '''\n",
        "  is_Region = df['Region'] == Region\n",
        "  return df[is_Region]\n",
        "\n",
        "# Filter dataframe on Region\n",
        "df2 = filter_region()\n",
        "\n",
        "# Compute times list\n",
        "times = [int(column) for column in df.columns if column[-2:] in [str(i) for i in range(10,120,10)]] + [2005,2100]\n",
        "cols_not_to_drop = [str(i) for i in times]\n",
        "times.sort()\n",
        "\n",
        "# Select columns in the dataframe we want to drop, which are columns where no or too few data is present (we only keep years 10 by 10)\n",
        "cols_to_drop = [column for column in df.columns if column not in (cols_not_to_drop+['Model','Scenario','Region','Variable','Unit'])] \n",
        "df3 = df2.drop(columns=cols_to_drop)\n",
        "\n",
        "# Filter on the scenario and return the final C02 emissions and prices\n",
        "scenarios = ['SSP2-19', 'SSP2-26', 'SSP2-34', 'SSP2-Baseline']\n",
        "def filter_on_scenario(df=df3, i=0, scenarios=scenarios) :\n",
        "  '''\n",
        "  Parameters :\n",
        "    - df : pandas Dataframe containing data\n",
        "    - scenarios : list of scenarios\n",
        "    - i : index of sector in the list of scenarios, integer between 0 and len(scenarios)\n",
        "  Output : \n",
        "    A pandas dataframe filtered on the selected scenario\n",
        "  Description :\n",
        "    Function which select a scenario from the list and filter the dataframe on it\n",
        "  '''\n",
        "  is_Scenario = df['Scenario'] == scenarios[i]\n",
        "  return df[is_Scenario]\n",
        "\n",
        "df4 = filter_on_scenario()\n",
        "\n",
        "# Booleans to filter on Prices or CO2 Emissions, depending on the sector\n",
        "sectors = ['Emissions|CO2', 'Emissions|CO2|AFOLU', 'Emissions|CO2|Energy and Industrial Processes', 'Emissions|CO2|Energy|Demand|Industry', 'Emissions|CO2|Energy|Demand|Residential and Commercial', 'Emissions|CO2|Energy|Supply|Electricity']\n",
        "def filter_on_sector(df=df4, i=0, sectors=sectors) :\n",
        "  '''\n",
        "  Parameters :\n",
        "    - df : pandas Dataframe containing data\n",
        "    - sectors : list of sectors\n",
        "    - i : index of sector in the list of sectors, integer between 0 and len(sectors)\n",
        "  Output : \n",
        "    A pandas dataframe filtered on the selected sector\n",
        "  Description :\n",
        "    Function which select a sector from the list and filter the dataframe on it\n",
        "  '''\n",
        "  is_CO2 = df['Variable'] == sectors[i]\n",
        "  return df[is_CO2]\n",
        "\n",
        "# Compute boolean to filter variable on Price\n",
        "is_price = df4['Variable'] == 'Price|Carbon'\n",
        "\n",
        "\n",
        "df_CO2_raw, df_price_raw = filter_on_sector(), df4[is_price]\n",
        "\n",
        "df_CO2, df_price = df_CO2_raw.drop([e for e in df.columns if not e.isdigit()], axis=1), df_price_raw.drop([e for e in df.columns if not e.isdigit()], axis=1)\n",
        "\n",
        "CO2, prices = df_CO2.to_numpy(dtype=float)[0], df_price.to_numpy(dtype=float)[0]"
      ],
      "metadata": {
        "id": "bG8WPsbq338y"
      },
      "execution_count": 21,
      "outputs": []
    },
    {
      "cell_type": "markdown",
      "source": [
        "## Probability of Default"
      ],
      "metadata": {
        "id": "nZqPKql-9HY4"
      }
    },
    {
      "cell_type": "code",
      "source": [
        "carbon_cost = np.multiply(CO2, prices) # If we consider world values, so we do not need to sum over the regions\n",
        "T = 1. # Time horizon\n",
        "V0 = 10*max(carbon_cost) # Total asset value\n",
        "D0 = V0 # Amount of debt\n",
        "sigma_V = 0.2 # Total asset volatility\n",
        "r = 0.05 # Risk-free rate"
      ],
      "metadata": {
        "id": "uuQXtqBQ9O19"
      },
      "execution_count": 22,
      "outputs": []
    },
    {
      "cell_type": "markdown",
      "source": [
        "### Article's model\n",
        "In [Bouchet/Le Guenedal, 2020](https://papers.ssrn.com/sol3/papers.cfm?abstract_id=3574486), the asset values are computed using\n",
        "\n",
        "$$V(i,k,t) = (1 - \\xi (i,k,t)) \\times V(i,k=0,t=0)$$\n",
        "\n",
        "where _beta_ is the shock to EBITDA "
      ],
      "metadata": {
        "id": "H5ZIlFOM8e1P"
      }
    },
    {
      "cell_type": "code",
      "source": [
        "EBITDA0 = sum(carbon_cost) # Earnings before interest, taxes, depreciation, and amortization"
      ],
      "metadata": {
        "id": "7CzUtBme9ml2"
      },
      "execution_count": 23,
      "outputs": []
    },
    {
      "cell_type": "code",
      "source": [
        "PD_article = []\n",
        "D = D0\n",
        "for i in range(len(carbon_cost)) :\n",
        "  #####################\n",
        "  shock_to_EBITDA = carbon_cost[i]/EBITDA0 # Shock\n",
        "  V = (1-shock_to_EBITDA)*V0 # Total asset values\n",
        "  #####################\n",
        "  d1 = (np.log(V/D) + (r+1/2*sigma_V**2))*T/(sigma_V*np.sqrt(T))\n",
        "  d2 = d1 - sigma_V*np.sqrt(T)\n",
        "  D = D0*np.exp(-r*T)*norm.cdf(d2) + V*norm.cdf(-d1) # Debt\n",
        "  #E = V*norm.cdf(d1) - D*np.exp(-r*T)*norm.cdf(d2) # Equity\n",
        "  DD = (np.log(V/D) + (r+1/2*(sigma_V)**2))*T/(sigma_V*np.sqrt(T)) # Distance to Default\n",
        "  PD_article.append(norm.cdf(-DD)) # Probability of Default"
      ],
      "metadata": {
        "id": "WKDFWysl9NV1"
      },
      "execution_count": 24,
      "outputs": []
    },
    {
      "cell_type": "markdown",
      "source": [
        "### Merton's model\n",
        "We use Merton's model for the computation of the probability of default.\n",
        "\n",
        "$$ \\frac{dV_{t}}{V_{t}} = rdt + \\sigma dW_{t}$$\n",
        "where $W_{t}$ is a brownian motion under the risk-neutral probability."
      ],
      "metadata": {
        "id": "svKiiaFvwRSs"
      }
    },
    {
      "cell_type": "code",
      "source": [
        "G = gauss(0.0, 1.0)"
      ],
      "metadata": {
        "id": "gLYZODcITcXx"
      },
      "execution_count": 25,
      "outputs": []
    },
    {
      "cell_type": "code",
      "source": [
        "PD_merton = []\n",
        "D = D0\n",
        "V = V0\n",
        "for i in range(len(carbon_cost)) :\n",
        "  #####################\n",
        "  V = V*np.exp((r+1/2*sigma_V**2)*T+sigma_V*np.sqrt(T)*G) # Total asset values\n",
        "  #####################\n",
        "  d1 = (np.log(V/D) + (r+1/2*sigma_V**2))*T/(sigma_V*np.sqrt(T))\n",
        "  d2 = d1 - sigma_V*np.sqrt(T)\n",
        "  D = D0*np.exp(-r*T)*norm.cdf(d2) + V*norm.cdf(-d1) # Debt\n",
        "  #E = V*norm.cdf(d1) - D*np.exp(-r*T)*norm.cdf(d2) # Equity\n",
        "  DD = (np.log(V/D) + (r+1/2*(sigma_V)**2))*T/(sigma_V*np.sqrt(T)) # Distance to Default\n",
        "  PD_merton.append(norm.cdf(-DD)) # Probability of Default"
      ],
      "metadata": {
        "id": "FrLdRYLH0snI"
      },
      "execution_count": 26,
      "outputs": []
    },
    {
      "cell_type": "markdown",
      "source": [
        "### Merton's model with Poisson component\n",
        "We use Merton's model for the computation of the probability of default and we model physical risk by adding a Poisson component.\n",
        "\n",
        "$$V_{t}=V_{0}exp((r+\\gamma\\lambda+\\frac{\\sigma^2}{2})t+\\sigma W_{t}+N_{t}ln(1-\\gamma))$$"
      ],
      "metadata": {
        "id": "IkVmnhCm-Oym"
      }
    },
    {
      "cell_type": "code",
      "source": [
        "G = gauss(0.0, 1.0)\n",
        "# Poisson\n",
        "Lambda = 4 # Poisson parameter\n",
        "gamma = 0.1 #Fraction of assets value lost at each climate events"
      ],
      "metadata": {
        "id": "f4NnPGt7-Kzm"
      },
      "execution_count": 27,
      "outputs": []
    },
    {
      "cell_type": "code",
      "source": [
        "PD_merton_poisson = []\n",
        "D = D0\n",
        "V = V0\n",
        "for i in range(len(carbon_cost)) :\n",
        "  #####################\n",
        "  poisson_prob = poisson.pmf(i,Lambda)\n",
        "  N = 1 if poisson_prob > .5 else 0 # Number of events occured\n",
        "  V = V*(1-gamma)*np.exp((r+Lambda*gamma+1/2*sigma_V**2)*sigma_V*np.sqrt(T)*G) # Poisson\n",
        "  ##################### \n",
        "  d1 = (np.log(V/D) + (r+1/2*sigma_V**2))*T/(sigma_V*np.sqrt(T))\n",
        "  d2 = d1 - sigma_V*np.sqrt(T)\n",
        "  D = D0*np.exp(-r*T)*norm.cdf(d2) + V*norm.cdf(-d1) # Debt\n",
        "  #E = V*norm.cdf(d1) - D*np.exp(-r*T)*norm.cdf(d2) # Equity\n",
        "  DD = (np.log(V/D) + (r+1/2*(sigma_V)**2))*T/(sigma_V*np.sqrt(T)) # Distance to Default\n",
        "  PD_merton_poisson.append(norm.cdf(-DD)) # Probability of Default"
      ],
      "metadata": {
        "id": "ZETraLS--bF2"
      },
      "execution_count": 28,
      "outputs": []
    },
    {
      "cell_type": "markdown",
      "source": [
        "## Plots"
      ],
      "metadata": {
        "id": "LAxUUXaHwjC4"
      }
    },
    {
      "cell_type": "code",
      "source": [
        "plt.xlabel('Time horizon (in years)')\n",
        "plt.ylabel('Probability of default')\n",
        "plt.title(\"Article's model\")\n",
        "plt.plot(times,PD_article)\n",
        "plt.savefig(\"Article's model.svg\",format=\"svg\")\n",
        "plt.show()"
      ],
      "metadata": {
        "id": "2N8dwi-RApIH",
        "colab": {
          "base_uri": "https://localhost:8080/",
          "height": 295
        },
        "outputId": "bc7fe746-1086-4039-b937-5b34aa23ebdd"
      },
      "execution_count": 29,
      "outputs": [
        {
          "output_type": "display_data",
          "data": {
            "text/plain": [
              "<Figure size 432x288 with 1 Axes>"
            ],
            "image/png": "[encoded data removed]"
          },
          "metadata": {
            "needs_background": "light"
          }
        }
      ]
    },
    {
      "cell_type": "code",
      "source": [
        "plt.xlabel('Time horizon (in years)')\n",
        "plt.ylabel('Probability of default')\n",
        "plt.title(\"Merton's model\")\n",
        "plt.plot(times,PD_merton)\n",
        "plt.savefig(\"Merton's model.svg\",format=\"svg\")\n",
        "plt.show()"
      ],
      "metadata": {
        "id": "iNbgUiaaAfhz",
        "colab": {
          "base_uri": "https://localhost:8080/",
          "height": 295
        },
        "outputId": "fb59844b-fa07-4c4a-d575-305047aff0ea"
      },
      "execution_count": 30,
      "outputs": [
        {
          "output_type": "display_data",
          "data": {
            "text/plain": [
              "<Figure size 432x288 with 1 Axes>"
            ],
            "image/png": "[encoded data removed]"
          },
          "metadata": {
            "needs_background": "light"
          }
        }
      ]
    },
    {
      "cell_type": "code",
      "source": [
        "plt.xlabel('Time horizon (in years)')\n",
        "plt.ylabel('Probability of default')\n",
        "plt.title(\"Merton's model with Poisson component\")\n",
        "plt.plot(times,PD_merton_poisson)\n",
        "plt.savefig(\"Merton's model with Poisson component.svg\",format=\"svg\")\n",
        "plt.show()"
      ],
      "metadata": {
        "id": "zUi9pwHnfboS",
        "colab": {
          "base_uri": "https://localhost:8080/",
          "height": 295
        },
        "outputId": "885591b2-2acd-409c-b823-969912a3333a"
      },
      "execution_count": 31,
      "outputs": [
        {
          "output_type": "display_data",
          "data": {
            "text/plain": [
              "<Figure size 432x288 with 1 Axes>"
            ],
            "image/png": "[encoded data removed]"
          },
          "metadata": {
            "needs_background": "light"
          }
        }
      ]
    },
    {
      "cell_type": "markdown",
      "source": [
        "### Download plots"
      ],
      "metadata": {
        "id": "o0p_M3ApB2fX"
      }
    },
    {
      "cell_type": "code",
      "source": [
        "# files.download(\"Article's model.svg\")\n",
        "# files.download(\"Merton's model.svg\")\n",
        "# files.download(\"Merton's model with Poisson component.svg\")"
      ],
      "metadata": {
        "id": "v5xg-ake7_I9"
      },
      "execution_count": 32,
      "outputs": []
    }
  ]
}